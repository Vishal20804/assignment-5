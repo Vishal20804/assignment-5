{
 "cells": [
  {
   "cell_type": "code",
   "execution_count": 3,
   "id": "7c62a9dd-c331-476c-bdc8-a902d007ebbc",
   "metadata": {},
   "outputs": [
    {
     "name": "stdout",
     "output_type": "stream",
     "text": [
      "[('Ricky ponting', 27483), ('jack kallis', 25534), ('sachin tendulakar', 34357), ('virat lohali', 24936)]\n"
     ]
    }
   ],
   "source": [
    "#ans:1=\n",
    "# define a list of tuples\n",
    "my_list = [('sachin tendulakar',34357), ('Ricky ponting',27483), ('jack kallis',25534), ('virat lohali',24936)]\n",
    "my_list.sort(key=lambda x: x[0])\n",
    "print(my_list)\n"
   ]
  },
  {
   "cell_type": "code",
   "execution_count": null,
   "id": "724251fc-2fa9-4f7b-8a41-e842954f68bf",
   "metadata": {},
   "outputs": [],
   "source": [
    "#ans:2=\n",
    "numbers = [1, 2, 3, 4, 5,6,7,8,9,10]\n",
    "\n",
    "squares = list(map(lambda x: x**2, numbers))\n",
    "\n",
    "print(squares)\n"
   ]
  },
  {
   "cell_type": "code",
   "execution_count": null,
   "id": "e7cc8be4-87b5-490a-a18b-be932f01f800",
   "metadata": {},
   "outputs": [],
   "source": [
    "#ans:3=\n",
    "numbers = [1, 2, 3, 4, 5,6,7,8,9,10]\n",
    "\n",
    "string_tuple = tuple(map(lambda x: str(x), numbers))\n",
    "\n",
    "print(string_tuple)\n"
   ]
  },
  {
   "cell_type": "code",
   "execution_count": null,
   "id": "b1c504de-976c-47ff-8952-8ece5e7fd0b9",
   "metadata": {},
   "outputs": [],
   "source": [
    "#ans:4=\n",
    "from functools import reduce\n",
    "\n",
    "numbers = list(range(1, 26))\n",
    "\n",
    "product = reduce(lambda x, y: x * y, numbers)\n",
    "\n",
    "print(product)\n"
   ]
  },
  {
   "cell_type": "code",
   "execution_count": null,
   "id": "490cce9e-11a7-47b6-abba-cd10dc6a25af",
   "metadata": {},
   "outputs": [],
   "source": [
    "#ans:6=\n",
    "\n",
    "string = \"racecar\"\n",
    "\n",
    "is_palindrome = lambda x: x == x[::-1]\n",
    "\n",
    "if is_palindrome(string):\n",
    "    print(\"The string is a palindrome.\")\n",
    "else:\n",
    "    print(\"The string is not a palindrome.\")\n"
   ]
  }
 ],
 "metadata": {
  "kernelspec": {
   "display_name": "Python 3 (ipykernel)",
   "language": "python",
   "name": "python3"
  },
  "language_info": {
   "codemirror_mode": {
    "name": "ipython",
    "version": 3
   },
   "file_extension": ".py",
   "mimetype": "text/x-python",
   "name": "python",
   "nbconvert_exporter": "python",
   "pygments_lexer": "ipython3",
   "version": "3.10.8"
  }
 },
 "nbformat": 4,
 "nbformat_minor": 5
}
